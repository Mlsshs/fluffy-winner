{
 "cells": [
  {
   "cell_type": "code",
   "execution_count": null,
   "id": "71cb110d",
   "metadata": {},
   "outputs": [],
   "source": [
    "!pip install itertools"
   ]
  },
  {
   "cell_type": "code",
   "execution_count": 1,
   "id": "d5e8ef2d",
   "metadata": {},
   "outputs": [],
   "source": [
    "import pandas as pd\n",
    "import numpy as np\n",
    "import pytz\n",
    "import time\n",
    "import itertools\n",
    "from datetime import datetime, timedelta\n",
    "from datetime import datetime, timezone\n",
    "from mt5orders import Execution\n",
    "from smatrader import Indicators\n",
    "from modi import Modify\n",
    "import MetaTrader5 as mt5"
   ]
  },
  {
   "cell_type": "code",
   "execution_count": 2,
   "id": "bbc35e6e",
   "metadata": {
    "scrolled": true
   },
   "outputs": [
    {
     "name": "stdout",
     "output_type": "stream",
     "text": [
      "Connected to MetaTrader5\n",
      "Login: 24046914\n",
      "Server: FivePercentOnline-Real\n",
      "1 2 3 4 "
     ]
    },
    {
     "ename": "KeyboardInterrupt",
     "evalue": "",
     "output_type": "error",
     "traceback": [
      "\u001b[1;31m---------------------------------------------------------------------------\u001b[0m",
      "\u001b[1;31mKeyboardInterrupt\u001b[0m                         Traceback (most recent call last)",
      "Cell \u001b[1;32mIn[2], line 66\u001b[0m\n\u001b[0;32m     64\u001b[0m     \u001b[38;5;28;01melse\u001b[39;00m:\n\u001b[0;32m     65\u001b[0m         \u001b[38;5;28;01mpass\u001b[39;00m\n\u001b[1;32m---> 66\u001b[0m time\u001b[38;5;241m.\u001b[39msleep(\u001b[38;5;241m2\u001b[39m)\n",
      "\u001b[1;31mKeyboardInterrupt\u001b[0m: "
     ]
    }
   ],
   "source": [
    "#If MT5 isn't logged in, you have to log in manually or input your login details\n",
    "initilized = mt5.initialize()\n",
    "\n",
    "if initilized:\n",
    "    print('Connected to MetaTrader5')\n",
    "    print('Login:', mt5.account_info().login)\n",
    "    print('Server:', mt5.account_info().server)\n",
    "\n",
    "#Input the following parameters for trading\n",
    "symbols_to_trade = ['XAUUSD']\n",
    "lot_size = 0.1\n",
    "stoploss_pips = 50\n",
    "takeprofit_pips = 120   #Trailing stoploss, I highly recommend setting a 50% pips gain\n",
    "\n",
    "#Miscellaneous stuff\n",
    "past_data = 300         #Number of days you want to get the data\n",
    "deviation = 20          #Deviation of the bid and ask price\n",
    "resample_time = \"1min\"  #Candlestick resampling\n",
    "specific_timezone = 2   #GMT + specific_timezone\n",
    "\n",
    "#===================================================================================================================#\n",
    "#This is the loop which is required to keep on running to capture, collect and execute trades\n",
    "#It references to 3 other jupyter notebooks therefore all the files within the documents are equally important\n",
    "#Do not touch anything unless you're sure of what you are doing\n",
    "initial = Indicators(symbols_to_trade, mt5.TIMEFRAME_M5, past_data, resample_time, specific_timezone)\n",
    "strategy = Execution(symbols_to_trade, lot_size, stoploss_pips, takeprofit_pips, deviation)\n",
    "modifier = Modify(symbols_to_trade, lot_size, stoploss_pips, takeprofit_pips, deviation)\n",
    "\n",
    "#Fetching data requires a few seconds for the python script to load\n",
    "#Always make sure algo trading is off during the initialisation process\n",
    "#And no on-going trades otherwise bot will not run\n",
    "\n",
    "count = 0\n",
    "\n",
    "while True:\n",
    "    for sym in symbols_to_trade:\n",
    "        if mt5.positions_total() == 0:\n",
    "            initial.fetch_and_process_data()\n",
    "            signal = initial.get_signal(sym)\n",
    "            # print(f\"Signal for {sym}: {signal}\")\n",
    "\n",
    "            if signal == 'neutral':\n",
    "                count += 1\n",
    "                print(count, end=' ')\n",
    "                if signal == 'buy':\n",
    "                    strategy.open_order_buy()\n",
    "                elif signal == 'sell':\n",
    "                    strategy.open_order_sell()\n",
    "\n",
    "        elif mt5.positions_total() != 0:\n",
    "            profits = modifier.calculate_profit()\n",
    "            initial.fetch_and_process_data()\n",
    "\n",
    "            signal = initial.get_signal(sym)\n",
    "            print(f\"Signal for {sym}: {signal}\")\n",
    "            print(profits)\n",
    "            time.sleep(5)\n",
    "\n",
    "            if signal == 'neutral':\n",
    "                positions = mt5.positions_get()\n",
    "                pos1 = positions[0]\n",
    "                modifier.closing_order(pos1)\n",
    "\n",
    "        else:\n",
    "            pass\n",
    "    time.sleep(2)"
   ]
  },
  {
   "cell_type": "code",
   "execution_count": null,
   "id": "a0d760c8",
   "metadata": {},
   "outputs": [],
   "source": []
  }
 ],
 "metadata": {
  "kernelspec": {
   "display_name": "Python 3 (ipykernel)",
   "language": "python",
   "name": "python3"
  },
  "language_info": {
   "codemirror_mode": {
    "name": "ipython",
    "version": 3
   },
   "file_extension": ".py",
   "mimetype": "text/x-python",
   "name": "python",
   "nbconvert_exporter": "python",
   "pygments_lexer": "ipython3",
   "version": "3.11.5"
  }
 },
 "nbformat": 4,
 "nbformat_minor": 5
}
