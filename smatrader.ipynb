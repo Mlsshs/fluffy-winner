{
 "cells": [
  {
   "cell_type": "code",
   "execution_count": null,
   "id": "6a73cdaf",
   "metadata": {},
   "outputs": [],
   "source": [
    "!pip install MetaTrader5"
   ]
  },
  {
   "cell_type": "code",
   "execution_count": null,
   "id": "36301388",
   "metadata": {},
   "outputs": [],
   "source": [
    "import pandas as pd\n",
    "import numpy as np\n",
    "from datetime import datetime, timedelta\n",
    "from datetime import datetime, timezone\n",
    "import time\n",
    "import MetaTrader5 as mt5"
   ]
  },
  {
   "cell_type": "code",
   "execution_count": null,
   "id": "7a635ca6",
   "metadata": {},
   "outputs": [],
   "source": [
    "class Indicators:\n",
    "    def __init__(self, symbols, timeframes, numberofdays):\n",
    "        self.symbols = symbols\n",
    "        self.timeframes = timeframes\n",
    "        self.numberofdays = numberofdays\n",
    "        self.raw_data = {}\n",
    "\n",
    "        # Fetch and process data for all pairs and timeframes\n",
    "        self.get_data()\n",
    "\n",
    "    def get_data(self):\n",
    "        for symbol in self.symbols:\n",
    "            date_from = datetime.now() - timedelta(days=self.numberofdays)\n",
    "            date_to = datetime.now()\n",
    "\n",
    "            # Fetch data for the current symbol and timeframe\n",
    "            df = pd.DataFrame(mt5.copy_rates_range(symbol, self.timeframes, date_from, date_to))\n",
    "            df['time'] = pd.to_datetime(df['time'], unit='s')  # Handle errors by coercing to NaT\n",
    "            df.drop(columns=['tick_volume', 'real_volume'], inplace=True)\n",
    "            df.set_index('time', inplace=True)\n",
    "\n",
    "            # Resample data to 15min timeframes\n",
    "            df_resampled = df.resample(\"15min\").last()\n",
    "            self.raw_data[key] = df_resampled.dropna()\n",
    "\n",
    "        # Perform strategy for all pairs and timeframes\n",
    "        self.sma_strat()\n",
    "\n",
    "    def update_data(self):\n",
    "        self.get_data()\n",
    "\n",
    "    def sma_strat(self):\n",
    "        for key, df in self.raw_data.items():\n",
    "            df[\"SMA_10\"] = df[\"close\"].rolling(10).mean()\n",
    "            df[\"SMA_20\"] = df[\"close\"].rolling(20).mean()\n",
    "            df[\"SMA_50\"] = df[\"close\"].rolling(50).mean()\n",
    "            df[\"SMA_100\"] = df[\"close\"].rolling(100).mean()\n",
    "            df[\"SMA_200\"] = df[\"close\"].rolling(200).mean()\n",
    "            \n",
    "            condition_1 = (df.SMA_10 > df.SMA_20) & (df.SMA_20 > df.SMA_50) & (df.SMA_50 > df.SMA_100) & (df.SMA_100 > df.SMA_200)\n",
    "            condition_2 = (df.SMA_10 < df.SMA_20) & (df.SMA_20 < df.SMA_50) & (df.SMA_50 < df.SMA_100) & (df.SMA_100 < df.SMA_200)\n",
    "            \n",
    "            df[\"position_sma\"] = np.select([condition_1, condition_2], [1, -1], default=0)\n",
    "\n",
    "    def get_signal(self, symbol, timeframe):\n",
    "        df = self.raw_data.get(key, None)\n",
    "\n",
    "        if df is not None:\n",
    "            signal_value = df['position_sma'].iloc[-1]\n",
    "\n",
    "            if signal_value == 1:\n",
    "                return \"buy\"\n",
    "            elif signal_value == -1:\n",
    "                return \"sell\"\n",
    "            else:\n",
    "                return \"neutral\"\n",
    "        else:\n",
    "            return \"Data not available for the specified pair and timeframe\""
   ]
  }
 ],
 "metadata": {
  "kernelspec": {
   "display_name": "Python 3 (ipykernel)",
   "language": "python",
   "name": "python3"
  },
  "language_info": {
   "codemirror_mode": {
    "name": "ipython",
    "version": 3
   },
   "file_extension": ".py",
   "mimetype": "text/x-python",
   "name": "python",
   "nbconvert_exporter": "python",
   "pygments_lexer": "ipython3",
   "version": "3.11.5"
  }
 },
 "nbformat": 4,
 "nbformat_minor": 5
}
