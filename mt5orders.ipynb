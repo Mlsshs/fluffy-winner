{
 "cells": [
  {
   "cell_type": "code",
   "execution_count": 1,
   "id": "75c4bef1",
   "metadata": {},
   "outputs": [],
   "source": [
    "import MetaTrader5 as mt5"
   ]
  },
  {
   "cell_type": "code",
   "execution_count": 2,
   "id": "7152fa56",
   "metadata": {},
   "outputs": [],
   "source": [
    "class execution():\n",
    "    def __init__(self, symbol, lot, sl, tp, deviation):\n",
    "        self.symbol = symbol\n",
    "        self.lot = lot\n",
    "        self.sl = sl #pips\n",
    "        self.tp = tp #pips\n",
    "        self.deviation = deviation\n",
    "        \n",
    "        def open_order_buy(self):\n",
    "        for symbol in self.symbols:\n",
    "            request_buy = {\n",
    "                    \"action\": mt5.TRADE_ACTION_DEAL,\n",
    "                    \"symbol\": symbol,\n",
    "                    \"volume\": self.lot,\n",
    "                    \"type\": mt5.ORDER_TYPE_BUY,\n",
    "                    \"price\": mt5.symbol_info_tick(symbol).ask,\n",
    "                    \"sl\": mt5.symbol_info_tick(symbol).ask - (self.sl*10) * mt5.symbol_info(symbol).point,\n",
    "                    \"tp\": mt5.symbol_info_tick(symbol).ask + (self.tp*10) * mt5.symbol_info(symbol).point,\n",
    "                    \"deviation\": self.deviation,\n",
    "                    \"magic\": 10,\n",
    "                    \"comment\": \"python script buy\",\n",
    "                    \"type_time\": mt5.ORDER_TIME_GTC,\n",
    "                    \"type_filling\": mt5.ORDER_FILLING_IOC,\n",
    "                }\n",
    "\n",
    "            result_buy = mt5.order_send(request_buy)\n",
    "            result_buy\n",
    "            print(result_buy)\n",
    "            \n",
    "    def open_order_sell(self):\n",
    "        for symbol in self.symbols:\n",
    "            request_sell = {\n",
    "                    \"action\": mt5.TRADE_ACTION_DEAL,\n",
    "                    \"symbol\": symbol,\n",
    "                    \"volume\": self.lot,\n",
    "                    \"type\": mt5.ORDER_TYPE_SELL,\n",
    "                    \"price\": mt5.symbol_info_tick(symbol).bid,\n",
    "                    \"sl\": mt5.symbol_info_tick(symbol).bid + (self.sl*10) * mt5.symbol_info(symbol).point,\n",
    "                    \"tp\": mt5.symbol_info_tick(symbol).bid - (self.tp*10) * mt5.symbol_info(symbol).point,\n",
    "                    \"deviation\": self.deviation,\n",
    "                    \"magic\": 10,\n",
    "                    \"comment\": \"python script sell\",\n",
    "                    \"type_time\": mt5.ORDER_TIME_GTC,\n",
    "                    \"type_filling\": mt5.ORDER_FILLING_IOC,\n",
    "                }\n",
    "\n",
    "            result_sell = mt5.order_send(request_sell)\n",
    "            result_sell\n",
    "            print(result_sell)\n"
   ]
  }
 ],
 "metadata": {
  "kernelspec": {
   "display_name": "Python 3 (ipykernel)",
   "language": "python",
   "name": "python3"
  },
  "language_info": {
   "codemirror_mode": {
    "name": "ipython",
    "version": 3
   },
   "file_extension": ".py",
   "mimetype": "text/x-python",
   "name": "python",
   "nbconvert_exporter": "python",
   "pygments_lexer": "ipython3",
   "version": "3.11.5"
  }
 },
 "nbformat": 4,
 "nbformat_minor": 5
}
