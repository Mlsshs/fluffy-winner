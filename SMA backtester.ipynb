{
 "cells": [
  {
   "cell_type": "code",
   "execution_count": 1,
   "id": "2c5c75f5",
   "metadata": {},
   "outputs": [
    {
     "name": "stdout",
     "output_type": "stream",
     "text": [
      "Requirement already satisfied: pytz in c:\\users\\user\\anaconda3\\lib\\site-packages (2023.3.post1)\n",
      "Requirement already satisfied: MetaTrader5 in c:\\users\\user\\anaconda3\\lib\\site-packages (5.0.45)\n",
      "Requirement already satisfied: numpy>=1.7 in c:\\users\\user\\anaconda3\\lib\\site-packages (from MetaTrader5) (1.26.1)\n",
      "Requirement already satisfied: seaborn in c:\\users\\user\\anaconda3\\lib\\site-packages (0.13.1)\n",
      "Requirement already satisfied: numpy!=1.24.0,>=1.20 in c:\\users\\user\\anaconda3\\lib\\site-packages (from seaborn) (1.26.1)\n",
      "Requirement already satisfied: pandas>=1.2 in c:\\users\\user\\anaconda3\\lib\\site-packages (from seaborn) (2.2.1)\n",
      "Requirement already satisfied: matplotlib!=3.6.1,>=3.4 in c:\\users\\user\\anaconda3\\lib\\site-packages (from seaborn) (3.8.2)\n",
      "Requirement already satisfied: contourpy>=1.0.1 in c:\\users\\user\\anaconda3\\lib\\site-packages (from matplotlib!=3.6.1,>=3.4->seaborn) (1.2.0)\n",
      "Requirement already satisfied: cycler>=0.10 in c:\\users\\user\\anaconda3\\lib\\site-packages (from matplotlib!=3.6.1,>=3.4->seaborn) (0.12.1)\n",
      "Requirement already satisfied: fonttools>=4.22.0 in c:\\users\\user\\anaconda3\\lib\\site-packages (from matplotlib!=3.6.1,>=3.4->seaborn) (4.45.1)\n",
      "Requirement already satisfied: kiwisolver>=1.3.1 in c:\\users\\user\\anaconda3\\lib\\site-packages (from matplotlib!=3.6.1,>=3.4->seaborn) (1.4.5)\n",
      "Requirement already satisfied: packaging>=20.0 in c:\\users\\user\\anaconda3\\lib\\site-packages (from matplotlib!=3.6.1,>=3.4->seaborn) (23.1)\n",
      "Requirement already satisfied: pillow>=8 in c:\\users\\user\\anaconda3\\lib\\site-packages (from matplotlib!=3.6.1,>=3.4->seaborn) (10.0.1)\n",
      "Requirement already satisfied: pyparsing>=2.3.1 in c:\\users\\user\\anaconda3\\lib\\site-packages (from matplotlib!=3.6.1,>=3.4->seaborn) (3.1.1)\n",
      "Requirement already satisfied: python-dateutil>=2.7 in c:\\users\\user\\anaconda3\\lib\\site-packages (from matplotlib!=3.6.1,>=3.4->seaborn) (2.8.2)\n",
      "Requirement already satisfied: pytz>=2020.1 in c:\\users\\user\\anaconda3\\lib\\site-packages (from pandas>=1.2->seaborn) (2023.3.post1)\n",
      "Requirement already satisfied: tzdata>=2022.7 in c:\\users\\user\\anaconda3\\lib\\site-packages (from pandas>=1.2->seaborn) (2023.3)\n",
      "Requirement already satisfied: six>=1.5 in c:\\users\\user\\anaconda3\\lib\\site-packages (from python-dateutil>=2.7->matplotlib!=3.6.1,>=3.4->seaborn) (1.16.0)\n"
     ]
    }
   ],
   "source": [
    "# Talib is not necessary but some people may like using talib for convenience\n",
    "# import talib as ta\n",
    "\n",
    "!pip install pytz\n",
    "!pip install MetaTrader5\n",
    "!pip install seaborn"
   ]
  },
  {
   "cell_type": "code",
   "execution_count": 2,
   "id": "c1a033d2",
   "metadata": {},
   "outputs": [],
   "source": [
    "import pandas as pd\n",
    "import numpy as np\n",
    "from datetime import datetime, timedelta\n",
    "import time\n",
    "import itertools\n",
    "import MetaTrader5 as mt5\n",
    "import pytz\n",
    "import matplotlib as py\n",
    "import matplotlib.pyplot as plt\n",
    "import seaborn as sns\n",
    "import math"
   ]
  },
  {
   "cell_type": "markdown",
   "id": "7f4fb10b",
   "metadata": {},
   "source": [
    "## Connect to MetaTrader5"
   ]
  },
  {
   "cell_type": "code",
   "execution_count": 3,
   "id": "22451442",
   "metadata": {
    "scrolled": true
   },
   "outputs": [
    {
     "name": "stdout",
     "output_type": "stream",
     "text": [
      "Connected to MetaTrader5\n",
      "Login: 30668876\n",
      "Server: GrowthNext-Demo\n"
     ]
    }
   ],
   "source": [
    "# Uses MetaTrader5 to fetch data\n",
    "# We use MetaTrader5 because it is able to fetch more data than Yahoo Finance in certain instruments\n",
    "initilized = mt5.initialize()\n",
    "\n",
    "if initilized:\n",
    "    print('Connected to MetaTrader5')\n",
    "    print('Login:', mt5.account_info().login)\n",
    "    print('Server:', mt5.account_info().server)"
   ]
  },
  {
   "cell_type": "markdown",
   "id": "6000736d",
   "metadata": {},
   "source": [
    "## Setting parameters and retrieving data"
   ]
  },
  {
   "cell_type": "code",
   "execution_count": 4,
   "id": "1c99b8a5",
   "metadata": {},
   "outputs": [],
   "source": [
    "symbol = \"XAUUSD\"\n",
    "timeframes = mt5.TIMEFRAME_M10\n",
    "gmt_now = datetime.now(pytz.timezone('Etc/GMT'))\n",
    "lot_size = 0.1"
   ]
  },
  {
   "cell_type": "code",
   "execution_count": 5,
   "id": "402fc6bf",
   "metadata": {},
   "outputs": [],
   "source": [
    "#testing for 365 days which is \n",
    "raw = pd.DataFrame(mt5.copy_rates_from(symbol, timeframes, gmt_now, 4000))\n",
    "raw['time'] = pd.to_datetime(raw['time'], unit='s', errors='coerce')\n",
    "raw.drop(columns=['open','tick_volume', 'real_volume'], inplace=True)\n",
    "raw.set_index('time', inplace=True)"
   ]
  },
  {
   "cell_type": "markdown",
   "id": "7877ee57",
   "metadata": {},
   "source": [
    "## Applying returns"
   ]
  },
  {
   "cell_type": "code",
   "execution_count": 6,
   "id": "3ce333ad",
   "metadata": {},
   "outputs": [],
   "source": [
    "raw = raw.copy()\n",
    "raw[\"pips\"] = (raw[\"close\"] - raw[\"close\"].shift(1))\n",
    "raw = raw.dropna()"
   ]
  },
  {
   "cell_type": "markdown",
   "id": "9788bd3c",
   "metadata": {},
   "source": [
    "## Apply strategy (SMA)"
   ]
  },
  {
   "cell_type": "code",
   "execution_count": 7,
   "id": "a2e90355",
   "metadata": {},
   "outputs": [],
   "source": [
    "# This strategy uses SMA 7,28,100,200 crossovers\n",
    "\n",
    "df = raw.copy()\n",
    "df[\"SMA_7\"] = df[\"close\"].rolling(7).mean()\n",
    "df[\"SMA_28\"] = df[\"close\"].rolling(28).mean()\n",
    "df[\"SMA_100\"] = df[\"close\"].rolling(100).mean()\n",
    "df[\"SMA_200\"] = df[\"close\"].rolling(200).mean()"
   ]
  },
  {
   "cell_type": "code",
   "execution_count": 8,
   "id": "cd31cb7b",
   "metadata": {},
   "outputs": [],
   "source": [
    "# Define conditions\n",
    "condition_1 = (df[\"SMA_7\"] > df[\"SMA_28\"]) & (df[\"SMA_100\"] > df[\"SMA_200\"])\n",
    "condition_2 = (df[\"SMA_7\"] < df[\"SMA_28\"]) & (df[\"SMA_100\"] < df[\"SMA_200\"])\n",
    "\n",
    "# Update position_sma column\n",
    "df.loc[:, \"position_sma\"] = np.select([condition_1, condition_2], [1, -1], default=0)\n",
    "\n",
    "df = df.dropna()"
   ]
  },
  {
   "cell_type": "code",
   "execution_count": 9,
   "id": "7d2f3682",
   "metadata": {
    "scrolled": true
   },
   "outputs": [
    {
     "data": {
      "text/plain": [
       "position_sma\n",
       " 0    1863\n",
       " 1    1544\n",
       "-1     393\n",
       "Name: count, dtype: int64"
      ]
     },
     "execution_count": 9,
     "metadata": {},
     "output_type": "execute_result"
    }
   ],
   "source": [
    "# Ensure there are 0, -1, 1 in the column otherwise it might hint that the strategy has faults\n",
    "df[\"position_sma\"].value_counts()"
   ]
  },
  {
   "cell_type": "markdown",
   "id": "bf6975a1",
   "metadata": {},
   "source": [
    "## Calculating pip returns base on strategy"
   ]
  },
  {
   "cell_type": "code",
   "execution_count": 10,
   "id": "6d69a72a",
   "metadata": {},
   "outputs": [
    {
     "data": {
      "text/plain": [
       "count    3800.000000\n",
       "mean       94.304771\n",
       "std        59.055800\n",
       "min        -0.440000\n",
       "25%        68.945000\n",
       "50%        84.880000\n",
       "75%       132.242500\n",
       "max       222.770000\n",
       "Name: cumulative, dtype: float64"
      ]
     },
     "execution_count": 10,
     "metadata": {},
     "output_type": "execute_result"
    }
   ],
   "source": [
    "df[\"strategy\"] = df[\"pips\"] * df[\"position_sma\"]\n",
    "df[\"cumulative\"] = df[\"strategy\"].cumsum()\n",
    "df[\"cumulative\"].describe()"
   ]
  },
  {
   "cell_type": "markdown",
   "id": "1b923994",
   "metadata": {},
   "source": [
    "### Finding total number of transitions & commission costs"
   ]
  },
  {
   "cell_type": "code",
   "execution_count": 11,
   "id": "dfe3ef93",
   "metadata": {},
   "outputs": [
    {
     "name": "stdout",
     "output_type": "stream",
     "text": [
      "Total transitions: 199\n",
      "Transitions from 0 to 1: 74\n",
      "Transitions from 0 to -1: 26\n",
      "Transitions from 1 to 0: 73\n",
      "Transitions from -1 to 0: 26\n",
      "Transitions from 1 to -1: 0\n",
      "Transitions from -1 to 1: 0\n"
     ]
    }
   ],
   "source": [
    "transitions_0_to_1 = ((df[\"position_sma\"] == 1) & (df[\"position_sma\"].shift(1) == 0)).sum()\n",
    "transitions_0_to_minus_1 = ((df[\"position_sma\"] == -1) & (df[\"position_sma\"].shift(1) == 0)).sum()\n",
    "transitions_1_to_0 = ((df[\"position_sma\"] == 0) & (df[\"position_sma\"].shift(1) == 1)).sum()\n",
    "transitions_minus_1_to_0 = ((df[\"position_sma\"] == 0) & (df[\"position_sma\"].shift(1) == -1)).sum()\n",
    "transitions_1_to_minus_1 = ((df[\"position_sma\"] == -1) & (df[\"position_sma\"].shift(1) == 1)).sum()\n",
    "transitions_minus_1_to_1 = ((df[\"position_sma\"] == 1) & (df[\"position_sma\"].shift(1) == -1)).sum()\n",
    "\n",
    "# Calculate total counts\n",
    "total_transitions = transitions_0_to_1 + transitions_0_to_minus_1 + transitions_1_to_0 + transitions_minus_1_to_0 + transitions_1_to_minus_1 + transitions_minus_1_to_1\n",
    "\n",
    "print(\"Total transitions:\", total_transitions)\n",
    "print(\"Transitions from 0 to 1:\", transitions_0_to_1)\n",
    "print(\"Transitions from 0 to -1:\", transitions_0_to_minus_1)\n",
    "print(\"Transitions from 1 to 0:\", transitions_1_to_0)\n",
    "print(\"Transitions from -1 to 0:\", transitions_minus_1_to_0)\n",
    "print(\"Transitions from 1 to -1:\", transitions_1_to_minus_1)\n",
    "print(\"Transitions from -1 to 1:\", transitions_minus_1_to_1)\n"
   ]
  },
  {
   "cell_type": "markdown",
   "id": "576b5015",
   "metadata": {},
   "source": [
    "### Finding total profits less commission costs"
   ]
  },
  {
   "cell_type": "code",
   "execution_count": 12,
   "id": "04b3b1f7",
   "metadata": {},
   "outputs": [],
   "source": [
    "contract_size = 100\n",
    "pip_value = lot_size*contract_size\n",
    "\n",
    "#Resampling data\n",
    "data = df.copy()\n",
    "\n",
    "#data_resampled_count = pd.DataFrame(data.resample('D').count()[\"position_sma\"])\n",
    "spread_costs = round(data['spread'].mean()) / 100\n",
    "total_spread_costs = spread_costs * total_transitions * pip_value\n",
    "\n",
    "data_resampled = pd.DataFrame(data.resample('D').sum()[\"strategy\"])\n",
    "data_resampled = data_resampled[data_resampled[\"strategy\"] != 0]\n",
    "data_days = data_resampled[\"strategy\"].count()\n",
    "\n",
    "#Commissions\n",
    "commission = 2*lot_size\n",
    "total_commission = commission*total_transitions\n",
    "total_commission_f = \"{:.2f}\".format(total_commission)\n",
    "\n",
    "#Calculating mean, highest, lowest net profits\n",
    "Trades_per_day = round(total_transitions / data_days) #Avg trades per day\n",
    "spreads_cost_day = (Trades_per_day * spread_costs)    #Average total spread costs per day\n",
    "data_resampled[\"strategy_cost\"] = data_resampled[\"strategy\"] - spreads_cost_day\n",
    "\n",
    "highest_win = round(data_resampled[\"strategy_cost\"].max()) * pip_value\n",
    "lowest_win = round(data_resampled[\"strategy_cost\"].min()) * pip_value\n",
    "nprofit_mean = round(data_resampled[\"strategy_cost\"].mean()) * pip_value\n",
    "stddev = round(data_resampled[\"strategy_cost\"].std()) * pip_value\n",
    "nprofit_highest = round(nprofit_mean + stddev)\n",
    "nprofit_lowest = round(nprofit_mean - stddev)\n",
    "\n",
    "#Profit after costs\n",
    "net_f = (data_resampled[\"strategy_cost\"].sum() * pip_value) - total_commission\n",
    "net = \"{:.2f}\".format(net_f)\n",
    "\n",
    "#win rate\n",
    "condition_4 = data_resampled[\"strategy_cost\"] > 0\n",
    "data_resampled['positive_days'] = np.where(condition_4, 1, 0)\n",
    "data_resampled['positive_days'].sum()\n",
    "win_rate = (data_resampled['positive_days'].sum()/data_days)*100\n",
    "win_rate = round(win_rate)"
   ]
  },
  {
   "cell_type": "markdown",
   "id": "38959001",
   "metadata": {},
   "source": [
    "### Plot theoretical returns vs actual returns"
   ]
  },
  {
   "cell_type": "code",
   "execution_count": 17,
   "id": "756d2152",
   "metadata": {
    "scrolled": false
   },
   "outputs": [
    {
     "data": {
      "image/png": "[encoded data removed]",
      "text/plain": [
       "<Figure size 640x480 with 1 Axes>"
      ]
     },
     "metadata": {},
     "output_type": "display_data"
    }
   ],
   "source": [
    "data_resampled[\"cumulative\"] = data_resampled[\"strategy\"].cumsum()\n",
    "data_resampled[\"cumulative_costs\"] = data_resampled[\"strategy_cost\"].cumsum()\n",
    "\n",
    "sns.lineplot((data_resampled[\"cumulative\"],data_resampled[\"cumulative_costs\"]), color='green')\n",
    "plt.xlabel('Date')\n",
    "plt.xticks(rotation=90)\n",
    "plt.ylabel('Strategy Returns')\n",
    "plt.title(\"PIP returns\")\n",
    "plt.grid(True)"
   ]
  },
  {
   "cell_type": "markdown",
   "id": "67d246f5",
   "metadata": {},
   "source": [
    "## Conducting Value at risk"
   ]
  },
  {
   "cell_type": "code",
   "execution_count": 14,
   "id": "2e02d1ac",
   "metadata": {},
   "outputs": [
    {
     "data": {
      "text/plain": [
       "0.06560189415333853"
      ]
     },
     "execution_count": 14,
     "metadata": {},
     "output_type": "execute_result"
    }
   ],
   "source": [
    "var_data = data_resampled.copy()\n",
    "var_data['Position'] = range(1, len(var_data) + 1)\n",
    "var_data = var_data.sort_values(\"strategy\",ascending = True)\n",
    "\n",
    "#Taking 10% VaR positions\n",
    "conservative = math.floor(len(var_data) * 0.05) \n",
    "formal = math.ceil(len(var_data) * 0.05)        \n",
    "\n",
    "# Note: If 0.05 * Total rows return an integer both conservative & formal will\n",
    "# return similar values hence not required to do interpolation\n",
    "\n",
    "\n",
    "#Probability * Sample size\n",
    "alpha_s = 0.05 * len(var_data)\n",
    "\n",
    "# Finding the respective lowest daily return\n",
    "return_c = var_data['strategy'].iloc[conservative]\n",
    "return_f = var_data['strategy'].iloc[formal]\n",
    "\n",
    "#Smoothing parameter for giving recent data higher weights\n",
    "# 0 < delta < 1\n",
    "delta = 0.95 \n",
    "\n",
    "init_weight = (1 - delta) / (1 - delta**len(var_data))\n",
    "init_weight # W0"
   ]
  },
  {
   "cell_type": "markdown",
   "id": "7c8c1cdf",
   "metadata": {},
   "source": [
    "## Interpolation (Weighted Historical Simulation)"
   ]
  },
  {
   "cell_type": "code",
   "execution_count": 15,
   "id": "e055faca",
   "metadata": {},
   "outputs": [
    {
     "name": "stdout",
     "output_type": "stream",
     "text": [
      "-9.97\n"
     ]
    }
   ],
   "source": [
    "#If position equals to conservative/formal which is 50 in this case\n",
    "condition_conservative = return_c == var_data['strategy']\n",
    "condition_formal = return_f == var_data['strategy']\n",
    "\n",
    "#Hence return & store the daily_return of the aforementioned position\n",
    "value_c = var_data.loc[condition_conservative, 'Position'].values\n",
    "value_f = var_data.loc[condition_formal, 'Position'].values\n",
    "value_c = value_c[0] # 145th\n",
    "value_f = value_f[0] # 161th\n",
    "\n",
    "con_w = init_weight * (delta ** value_c)\n",
    "for_w = init_weight * (delta ** value_f)\n",
    "\n",
    "weighted_return_c = con_w * return_c\n",
    "weighted_return_f = for_w * return_f\n",
    "\n",
    "#interpolation\n",
    "\n",
    "interpolate = (value_f - alpha_s) * weighted_return_c + (alpha_s - value_c) * weighted_return_f\n",
    "\n",
    "var_final = interpolate * pip_value\n",
    "var_final = format(var_final, \".2f\")\n",
    "print(var_final)"
   ]
  },
  {
   "cell_type": "markdown",
   "id": "32782b9e",
   "metadata": {},
   "source": [
    "### Summary"
   ]
  },
  {
   "cell_type": "code",
   "execution_count": 16,
   "id": "a2228b2a",
   "metadata": {},
   "outputs": [
    {
     "name": "stdout",
     "output_type": "stream",
     "text": [
      "\n",
      "Instrument: XAUUSD\n",
      "Timeframe: 10min\n",
      "Strategy: SMA\n",
      "\n",
      "Net Profits: $1894.00\n",
      "\n",
      "Days = 28 business days\n",
      "\n",
      "Highest profit day = $310.0\n",
      "Lowest profit  day = $-60.0\n",
      "\n",
      "== Overal Statistics ==\n",
      "Total Transactions: 199\n",
      "Total Spread Costs: $239\n",
      "Total Commissions: $39.80\n",
      "\n",
      "Strategy Win-Rate = 64%\n",
      "\n",
      "== Per Day Statistics ==\n",
      "Trades Per Day = 7\n",
      "Expected Net Profits: $70.0\n",
      "Highest Expected Net Profits: $190\n",
      "Lowest Expected Net Profits: $-50\n",
      "Standard Deviation: $120.0\n",
      "Value At Risk = $-9.97\n",
      "\n"
     ]
    },
    {
     "data": {
      "image/png": "[encoded data removed]",
      "text/plain": [
       "<Figure size 640x480 with 1 Axes>"
      ]
     },
     "metadata": {},
     "output_type": "display_data"
    }
   ],
   "source": [
    "print(\"\"\"\n",
    "Instrument: {}\n",
    "Timeframe: {}min\n",
    "Strategy: SMA\n",
    "\n",
    "Net Profits: ${}\n",
    "\n",
    "Days = {} business days\n",
    "\n",
    "Highest profit day = ${}\n",
    "Lowest profit  day = ${}\n",
    "\n",
    "== Overal Statistics ==\n",
    "Total Transactions: {}\n",
    "Total Spread Costs: ${}\n",
    "Total Commissions: ${}\n",
    "\n",
    "Strategy Win-Rate = {}%\n",
    "\n",
    "== Per Day Statistics ==\n",
    "Trades Per Day = {}\n",
    "Expected Net Profits: ${}\n",
    "Highest Expected Net Profits: ${}\n",
    "Lowest Expected Net Profits: ${}\n",
    "Standard Deviation: ${}\n",
    "Value At Risk = ${}\n",
    "\"\"\".format(symbol, timeframes, net, data_days, highest_win, lowest_win,\n",
    "           total_transitions, round(total_spread_costs), total_commission_f, win_rate, \n",
    "           Trades_per_day, nprofit_mean, nprofit_highest, nprofit_lowest, stddev, var_final))\n",
    "\n",
    "sns.histplot(data_resampled['strategy_cost'], bins=30, kde=True, color='purple', stat='density')\n",
    "plt.xlabel('Daily Pips')\n",
    "plt.ylabel('Density')\n",
    "plt.title('Distribution of Daily Pips for {}'.format(symbol))\n",
    "plt.grid(True)\n",
    "plt.show()"
   ]
  }
 ],
 "metadata": {
  "kernelspec": {
   "display_name": "Python 3 (ipykernel)",
   "language": "python",
   "name": "python3"
  },
  "language_info": {
   "codemirror_mode": {
    "name": "ipython",
    "version": 3
   },
   "file_extension": ".py",
   "mimetype": "text/x-python",
   "name": "python",
   "nbconvert_exporter": "python",
   "pygments_lexer": "ipython3",
   "version": "3.11.5"
  }
 },
 "nbformat": 4,
 "nbformat_minor": 5
}
